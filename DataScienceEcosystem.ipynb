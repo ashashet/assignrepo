{
 "cells": [
  {
   "cell_type": "markdown",
   "id": "e044f592-0cd2-4610-b620-db157e624c8c",
   "metadata": {},
   "source": [
    "# Data Science Tools and Ecosystem"
   ]
  },
  {
   "cell_type": "code",
   "execution_count": 2,
   "id": "87717e13-de48-42b9-9163-fe062118c3b3",
   "metadata": {},
   "outputs": [
    {
     "name": "stdout",
     "output_type": "stream",
     "text": [
      "In this notebook, Data Science Tools and Ecosystem are summarized.\n"
     ]
    }
   ],
   "source": [
    "print(\"In this notebook, Data Science Tools and Ecosystem are summarized.\")"
   ]
  },
  {
   "cell_type": "markdown",
   "id": "69f201f2-af2d-4f5b-889d-a2607e8b9a5b",
   "metadata": {},
   "source": [
    "**Objectives:**\n",
    "\n",
    "* List popular languages for Data Science\n",
    "* List popular Libraries for Data Science\n",
    "* List popular Tools for Data Science\n",
    "* Examples of evaluating some arithmetic expressions in Python\n",
    "* Author"
   ]
  },
  {
   "cell_type": "code",
   "execution_count": 3,
   "id": "4c6b70fa-39bd-4a01-9fea-ac51e52c0dc8",
   "metadata": {},
   "outputs": [
    {
     "name": "stdout",
     "output_type": "stream",
     "text": [
      "Some of the popular languages that Data Scientists use are:\n"
     ]
    }
   ],
   "source": [
    "print(\"Some of the popular languages that Data Scientists use are:\")"
   ]
  },
  {
   "cell_type": "markdown",
   "id": "7348f7a6-568c-4565-bc28-ee7810356e04",
   "metadata": {},
   "source": [
    "1. Python\n",
    "2. R\n",
    "3. SQL\n",
    "4. Scala\n",
    "5. Julia\n",
    "6. Java"
   ]
  },
  {
   "cell_type": "code",
   "execution_count": 6,
   "id": "3d075146-c142-4040-8904-9f5f32faf4ad",
   "metadata": {},
   "outputs": [
    {
     "name": "stdout",
     "output_type": "stream",
     "text": [
      "Some of the commonly used libraries used by Data Scientists include:\n"
     ]
    }
   ],
   "source": [
    "print(\"Some of the commonly used libraries used by Data Scientists include:\")"
   ]
  },
  {
   "cell_type": "markdown",
   "id": "108663f4-1f68-4bd3-96d5-8eed28bf9c44",
   "metadata": {},
   "source": [
    "1. Pandas\n",
    "2. NumPy\n",
    "3. SciPy\n",
    "4. Matplotlib\n",
    "5. Tensorflow\n",
    "6. Keras"
   ]
  },
  {
   "cell_type": "markdown",
   "id": "06ddb190-6ff8-4afc-bcf5-7a37a57490f2",
   "metadata": {},
   "source": [
    "|Data Science Tools|\n",
    "|------------------|\n",
    "|Apache Hadoop|\n",
    "|Jupyter Notebook|\n",
    "|Power BI|\n",
    "|MongoDB|\n",
    "|Apache Spark|\n",
    "|Tableau|"
   ]
  },
  {
   "cell_type": "markdown",
   "id": "f481034e-8271-4705-92cd-2dad5b1dc643",
   "metadata": {},
   "source": [
    "### Below are a few examples of evaluating arithmetic expressions in Python."
   ]
  },
  {
   "cell_type": "markdown",
   "id": "e41b50be-e19c-4853-9785-2fe6e53a2426",
   "metadata": {},
   "source": [
    "This a simple arithmetic expression to mutiply then add integers."
   ]
  },
  {
   "cell_type": "code",
   "execution_count": 11,
   "id": "5b55fce5-0d85-43e0-80e0-6e4cfb91038a",
   "metadata": {},
   "outputs": [
    {
     "data": {
      "text/plain": [
       "17"
      ]
     },
     "execution_count": 11,
     "metadata": {},
     "output_type": "execute_result"
    }
   ],
   "source": [
    "(3*4)+5"
   ]
  },
  {
   "cell_type": "markdown",
   "id": "f70d9a9b-9452-4a76-8c3c-c1d356c62d68",
   "metadata": {},
   "source": [
    "This will convert 200 minutes to hours by diving by 60."
   ]
  },
  {
   "cell_type": "code",
   "execution_count": 16,
   "id": "f6f875bf-1c81-4a2f-8756-a9691d39aebb",
   "metadata": {},
   "outputs": [
    {
     "name": "stdout",
     "output_type": "stream",
     "text": [
      "200 minutes= 3.3333333333333335 hours\n"
     ]
    }
   ],
   "source": [
    "x=200/60\n",
    "print(\"200 minutes=\",float(x),\"hours\")"
   ]
  },
  {
   "cell_type": "markdown",
   "id": "c8efee74-7e37-41e6-9772-c22d4c041712",
   "metadata": {},
   "source": [
    "## Author\n",
    "Asha"
   ]
  },
  {
   "cell_type": "code",
   "execution_count": null,
   "id": "18108475-8dca-4ef6-b7ad-dbfaf1d869cd",
   "metadata": {},
   "outputs": [],
   "source": []
  }
 ],
 "metadata": {
  "kernelspec": {
   "display_name": "Python 3 (ipykernel)",
   "language": "python",
   "name": "python3"
  },
  "language_info": {
   "codemirror_mode": {
    "name": "ipython",
    "version": 3
   },
   "file_extension": ".py",
   "mimetype": "text/x-python",
   "name": "python",
   "nbconvert_exporter": "python",
   "pygments_lexer": "ipython3",
   "version": "3.9.19"
  }
 },
 "nbformat": 4,
 "nbformat_minor": 5
}
